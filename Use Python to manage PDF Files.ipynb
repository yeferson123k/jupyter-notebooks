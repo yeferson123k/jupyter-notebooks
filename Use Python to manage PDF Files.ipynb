{
 "cells": [
  {
   "cell_type": "markdown",
   "id": "4d40eb07",
   "metadata": {},
   "source": [
    "# Use Python to manage PDF Files"
   ]
  },
  {
   "cell_type": "markdown",
   "id": "7ad9a305",
   "metadata": {},
   "source": [
    "## Reading PDF Files with PdfReader"
   ]
  },
  {
   "cell_type": "markdown",
   "id": "9c31a36a",
   "metadata": {},
   "source": [
    "<p>To create a new instance of the PdfReader class, you’ll need to provide the path to the PDF file that you want to open. You can do that using the pathlib module:</p>"
   ]
  },
  {
   "cell_type": "code",
   "execution_count": 28,
   "id": "37c19afd",
   "metadata": {},
   "outputs": [],
   "source": [
    "from pathlib import Path\n",
    "\n",
    "pdf_path = (\n",
    "     Path.home()\n",
    "     / \"c:users/name/Applied Python Files\" --- you put document directory\n",
    "     / \"Intro.pdf\" ---- document name\n",
    " )"
   ]
  },
  {
   "cell_type": "markdown",
   "id": "e04b5478",
   "metadata": {},
   "source": [
    "<p>Now create the PdfReader instance by calling the class’s constructor with the path to your PDF file as an argument:\n",
    "</p>"
   ]
  },
  {
   "cell_type": "code",
   "execution_count": 57,
   "id": "bba9d302",
   "metadata": {},
   "outputs": [],
   "source": [
    "pdf_reader = PdfReader('Intro.pdf')"
   ]
  },
  {
   "cell_type": "markdown",
   "id": "8bd1793d",
   "metadata": {},
   "source": [
    "<p>Now that you’ve created a PdfReader instance, you can use it to gather information about the PDF file. For example, to get the number of pages contained in the PDF file, you can use the built-in len() function like in the code below:</p>"
   ]
  },
  {
   "cell_type": "code",
   "execution_count": 58,
   "id": "9c4c261d",
   "metadata": {},
   "outputs": [
    {
     "data": {
      "text/plain": [
       "2"
      ]
     },
     "execution_count": 58,
     "metadata": {},
     "output_type": "execute_result"
    }
   ],
   "source": [
    "len(pdf_reader.pages)\n"
   ]
  },
  {
   "cell_type": "markdown",
   "id": "26b0d50e",
   "metadata": {},
   "source": [
    "<p>You can also access some document information using the .metadata attribute:</p>"
   ]
  },
  {
   "cell_type": "code",
   "execution_count": 32,
   "id": "c866edb3",
   "metadata": {
    "scrolled": true
   },
   "outputs": [
    {
     "data": {
      "text/plain": [
       "{'/Title': 'Intro script', '/Producer': 'Skia/PDF m93 Google Docs Renderer'}"
      ]
     },
     "execution_count": 32,
     "metadata": {},
     "output_type": "execute_result"
    }
   ],
   "source": [
    "pdf_reader.metadata"
   ]
  },
  {
   "cell_type": "markdown",
   "id": "b45d3916",
   "metadata": {},
   "source": [
    "<p>we can use each title of metadata for access to contend</p>\n",
    "<p>To get the title, use the .title attribute:</p>"
   ]
  },
  {
   "cell_type": "code",
   "execution_count": 33,
   "id": "78ba7bbc",
   "metadata": {},
   "outputs": [
    {
     "data": {
      "text/plain": [
       "'Intro script'"
      ]
     },
     "execution_count": 33,
     "metadata": {},
     "output_type": "execute_result"
    }
   ],
   "source": [
    "pdf_reader.metadata.title"
   ]
  },
  {
   "cell_type": "markdown",
   "id": "644777d9",
   "metadata": {},
   "source": [
    "<p>The .metadata object contains the PDF’s metadata, which is set when the file is first created. The PdfReader class provides all the necessary methods and attributes that you need to access data in a PDF file.</p>"
   ]
  },
  {
   "cell_type": "markdown",
   "id": "8d81c07e",
   "metadata": {},
   "source": [
    "## Extracting Text From a Page"
   ]
  },
  {
   "cell_type": "markdown",
   "id": "dd1e5253",
   "metadata": {},
   "source": [
    "<p>If you need to extract text from a PDF page, then you need to run the following steps:\n",
    "<ol>\n",
    "    <li>Get a PageObject with PdfReader.page[page_index].</li>\n",
    "    <li>Extract the text as a string with the PageObject instance’s .extract_text() method.</li>\n",
    "</ol>\n",
    "</p>"
   ]
  },
  {
   "cell_type": "code",
   "execution_count": 34,
   "id": "66eafdc2",
   "metadata": {},
   "outputs": [
    {
     "data": {
      "text/plain": [
       "pypdf._page.PageObject"
      ]
     },
     "execution_count": 34,
     "metadata": {},
     "output_type": "execute_result"
    }
   ],
   "source": [
    "first_page = pdf_reader.pages[0]\n",
    "type(first_page)"
   ]
  },
  {
   "cell_type": "code",
   "execution_count": 35,
   "id": "7aae40ae",
   "metadata": {},
   "outputs": [
    {
     "name": "stdout",
     "output_type": "stream",
     "text": [
      "Python Programming language is one of the most popular\n",
      "programming languages for everyone. Why?\n",
      "Python can be used for Data Science, Machine Learning,\n",
      "Server-side , Desktop apps  and many other areas.\n",
      "Also, It\n",
      "has a large library so you don’t have to write your\n",
      "own\n",
      "code for every single thing.\n",
      "Because of this, companies want to hire Python\n",
      "developers, and Python Data Analysts and they are\n",
      "some\n",
      "of the most well-paid people in the industry .\n",
      "The goal of this diploma,\n",
      "is to provide you with the fundamentals that you\n",
      "need to\n",
      "know ,\n",
      "to code with Python and to use Python for data handling,\n",
      "analysis and visualization.\n",
      "And by the end of this course, you’ll be able to create\n",
      "real\n",
      "python programs and analyze data using Python libraries\n",
      "and tools.\n",
      "I will show you how to program with Python easily\n",
      "and\n",
      "efficiently ,\n"
     ]
    }
   ],
   "source": [
    "print(first_page.extract_text())"
   ]
  },
  {
   "cell_type": "code",
   "execution_count": 36,
   "id": "1cbeb81c",
   "metadata": {},
   "outputs": [
    {
     "name": "stdout",
     "output_type": "stream",
     "text": [
      "Python Programming language is one of the most popular\n",
      "programming languages for everyone. Why?\n",
      "Python can be used for Data Science, Machine Learning,\n",
      "Server-side , Desktop apps  and many other areas.\n",
      "Also, It\n",
      "has a large library so you don’t have to write your\n",
      "own\n",
      "code for every single thing.\n",
      "Because of this, companies want to hire Python\n",
      "developers, and Python Data Analysts and they are\n",
      "some\n",
      "of the most well-paid people in the industry .\n",
      "The goal of this diploma,\n",
      "is to provide you with the fundamentals that you\n",
      "need to\n",
      "know ,\n",
      "to code with Python and to use Python for data handling,\n",
      "analysis and visualization.\n",
      "And by the end of this course, you’ll be able to create\n",
      "real\n",
      "python programs and analyze data using Python libraries\n",
      "and tools.\n",
      "I will show you how to program with Python easily\n",
      "and\n",
      "efficiently ,\n",
      "And work with data libraries such as NumPy , Pandas,\n",
      "Matplotlib, seaborn and more, practically and in a\n",
      "short\n",
      "time.\n",
      "My name is noro and If you encounter any problems\n",
      "in this\n",
      "course, I’m here to help you.\n",
      "So, we have a lot to cover in this course let’ s get\n",
      "started\n"
     ]
    }
   ],
   "source": [
    "for page in pdf_reader.pages:\n",
    "     print(page.extract_text())"
   ]
  },
  {
   "cell_type": "markdown",
   "id": "ffb44f38",
   "metadata": {},
   "source": [
    "## Putting It All Together"
   ]
  },
  {
   "cell_type": "markdown",
   "id": "e7bae025",
   "metadata": {},
   "source": [
    "<p>Open a new editor window in IDLE, create a new .py file called save_to_txt.py, and type in the following code:</p>"
   ]
  },
  {
   "cell_type": "markdown",
   "id": "09491b3e",
   "metadata": {},
   "source": [
    "<p>Our code:</p>"
   ]
  },
  {
   "cell_type": "code",
   "execution_count": 41,
   "id": "73fc3363",
   "metadata": {},
   "outputs": [
    {
     "data": {
      "text/plain": [
       "1111"
      ]
     },
     "execution_count": 41,
     "metadata": {},
     "output_type": "execute_result"
    }
   ],
   "source": [
    "from pathlib import Path\n",
    "\n",
    "from pypdf import PdfReader\n",
    "\n",
    "pdf_path = (\n",
    "     Path.home()\n",
    "     / \"MACHINE LEARNING\\python for machine learnong a step by step guide\\Applied Python Files\"\n",
    "     / \"Intro.pdf\"\n",
    " )\n",
    "\n",
    "pdf_reader = PdfReader('Intro.pdf')\n",
    "txt_file = Path.home() / \"Pride_and_Prejudice.txt\"\n",
    "content = [\n",
    "    f\"{pdf_reader.metadata.title}\",\n",
    "    f\"Number of pages: {len(pdf_reader.pages)}\"\n",
    "]\n",
    "\n",
    "for page in pdf_reader.pages:\n",
    "    content.append(page.extract_text())\n",
    "\n",
    "txt_file.write_text(\"\\n\".join(content))"
   ]
  },
  {
   "cell_type": "markdown",
   "id": "e86aa6f0",
   "metadata": {},
   "source": [
    "<p>Here’s a breakdown of how this code works like by line:</p>\n",
    "<ul>\n",
    "    <li>Line 3 imports Path from pathlib, while line 5 imports PdfReader.</li>\n",
    "    <li>Lines 7 to 12 define a Path object containing the path to your target PDF file.</li>\n",
    "<li>Line 14 assigns a new PdfReader instance to the pdf_reader variable.</li>\n",
    "    <li>Line 15 creates a Path object that points to the output .txt file.</li>\n",
    "<li>Lines 16 to 19 create a list where you’ll store the content that you’ll save to the .txt file. Initially, this list only contains the PDF title and the number of pages.</li>\n",
    "<li>Lines 21 and 22 define a for loop that iterates over the PDF pages, extracts their content as strings, and appends these strings to content.</li>\n",
    "<li>Line 24 concatenates all the strings in content using the .join() method and a newline (\\n) character as a separator. Finally, it writes the concatenated text into txt_file by taking advantage of .write_text() from Path.\n",
    "</ul>\n",
    "\n",
    "<p>When you save and run the program, it’ll create a new file in your home directory called Pride_and_Prejudice.txt containing the full text of the Pride_and_Prejudice.pdf document. Open it up and check it out!</p>"
   ]
  },
  {
   "cell_type": "markdown",
   "id": "c53d7db7",
   "metadata": {},
   "source": [
    "## Writing to PDF Files With PdfWriter\n"
   ]
  },
  {
   "cell_type": "code",
   "execution_count": 76,
   "id": "2401af24",
   "metadata": {},
   "outputs": [],
   "source": [
    "from pypdf import PdfWriter\n",
    "pdf_writer = PdfWriter()"
   ]
  },
  {
   "cell_type": "code",
   "execution_count": 11,
   "id": "86f0d3ad",
   "metadata": {},
   "outputs": [],
   "source": [
    "page = pdf_writer.add_blank_page(width=8.27 * 72, height=11.7 * 72)"
   ]
  },
  {
   "cell_type": "markdown",
   "id": "95d9205c",
   "metadata": {},
   "source": [
    "<p>The width and height arguments are required. They determine the dimensions of the page in user space units. One of these units is equal to 1/72 of an inch, so the above code adds an A4 blank page to pdf_writer.</p><br>\n",
    "\n",
    "<p>The .add_blank_page() method returns a new PageObject instance representing the page that you added to PdfWriter:</p>"
   ]
  },
  {
   "cell_type": "code",
   "execution_count": 12,
   "id": "83d63539",
   "metadata": {},
   "outputs": [
    {
     "data": {
      "text/plain": [
       "pypdf._page.PageObject"
      ]
     },
     "execution_count": 12,
     "metadata": {},
     "output_type": "execute_result"
    }
   ],
   "source": [
    "type(page)"
   ]
  },
  {
   "cell_type": "markdown",
   "id": "d05a6a3d",
   "metadata": {},
   "source": [
    "<p>In this example, you’ve assigned the PageObject instance returned by .add_blank_page() to the page variable, but in practice, you don’t usually need to do this. That is, you usually call .add_blank_page() without assigning the return value to anything:</p>"
   ]
  },
  {
   "cell_type": "code",
   "execution_count": 13,
   "id": "138edcc3",
   "metadata": {
    "scrolled": true
   },
   "outputs": [
    {
     "data": {
      "text/plain": [
       "{'/Type': '/Page',\n",
       " '/Resources': {},\n",
       " '/MediaBox': [0.0, 0.0, 595.44, 842.4],\n",
       " '/Parent': {'/Type': '/Pages',\n",
       "  '/Count': 2,\n",
       "  '/Kids': [IndirectObject(4, 0, 2334728711176),\n",
       "   IndirectObject(5, 0, 2334728711176)]}}"
      ]
     },
     "execution_count": 13,
     "metadata": {},
     "output_type": "execute_result"
    }
   ],
   "source": [
    "pdf_writer.add_blank_page(width=8.27 * 72, height=11.7 * 72)"
   ]
  },
  {
   "cell_type": "markdown",
   "id": "3c3fdf69",
   "metadata": {},
   "source": [
    "<p>o write the contents of pdf_writer to a PDF file, pass a file object in binary write mode to pdf_writer.write():</p>"
   ]
  },
  {
   "cell_type": "code",
   "execution_count": 14,
   "id": "4e909897",
   "metadata": {},
   "outputs": [
    {
     "data": {
      "text/plain": [
       "(True, <_io.FileIO [closed]>)"
      ]
     },
     "execution_count": 14,
     "metadata": {},
     "output_type": "execute_result"
    }
   ],
   "source": [
    "pdf_writer.write(\"blank.pdf\")"
   ]
  },
  {
   "cell_type": "markdown",
   "id": "26227ed5",
   "metadata": {},
   "source": [
    "<p>This creates a new file in your current working directory called blank.pdf. If you open the file with a PDF reader, such as Adobe Acrobat, then you’ll see a document with a single blank page with an A4 dimension.</p>"
   ]
  },
  {
   "cell_type": "markdown",
   "id": "ef3293a5",
   "metadata": {},
   "source": [
    "<p>In the example above, you followed three steps to create a new PDF file using pypdf:</p>\n",
    "    <ol>\n",
    "        <li>Create a PdfWriter instance.</li>\n",
    "        <li>Add one or more pages to the PdfWriter instance, using either .add_blank_page() or .add_page().</li>\n",
    "        <li>Write to a file using PdfWriter.write().</li>\n",
    "    </ol>\n",
    "\n",
    "<p>You’ll see this pattern over and over as you learn various ways to add pages to a PdfWriter instance.</p>"
   ]
  },
  {
   "cell_type": "code",
   "execution_count": 77,
   "id": "878e98fd",
   "metadata": {},
   "outputs": [],
   "source": [
    "#step 1\n",
    "pdf_writer = PdfWriter()"
   ]
  },
  {
   "cell_type": "code",
   "execution_count": 85,
   "id": "cc48e449",
   "metadata": {},
   "outputs": [],
   "source": [
    "PdfWriter = pdf_writer.add_blank_page(width=8.27 * 72, height=11.7 * 72)"
   ]
  },
  {
   "cell_type": "code",
   "execution_count": 86,
   "id": "3901b308",
   "metadata": {},
   "outputs": [],
   "source": [
    "pdf_reader = PdfReader('blank.pdf')"
   ]
  },
  {
   "cell_type": "code",
   "execution_count": 87,
   "id": "cf24cf05",
   "metadata": {
    "scrolled": true
   },
   "outputs": [
    {
     "data": {
      "text/plain": [
       "{'/Type': '/Page',\n",
       " '/Resources': {},\n",
       " '/MediaBox': [0.0, 0.0, 595.44, 842.4],\n",
       " '/Parent': {'/Type': '/Pages',\n",
       "  '/Count': 4,\n",
       "  '/Kids': [IndirectObject(4, 0, 2334730879304),\n",
       "   IndirectObject(5, 0, 2334730879304),\n",
       "   IndirectObject(6, 0, 2334730879304),\n",
       "   IndirectObject(7, 0, 2334730879304)]}}"
      ]
     },
     "execution_count": 87,
     "metadata": {},
     "output_type": "execute_result"
    }
   ],
   "source": [
    "pdf_writer.add_blank_page(width=8.27 * 72, height=11.7 * 72)"
   ]
  },
  {
   "cell_type": "code",
   "execution_count": 89,
   "id": "e680e2e0",
   "metadata": {},
   "outputs": [
    {
     "data": {
      "text/plain": [
       "4"
      ]
     },
     "execution_count": 89,
     "metadata": {},
     "output_type": "execute_result"
    }
   ],
   "source": [
    "len(pdf_writer.pages)"
   ]
  },
  {
   "cell_type": "markdown",
   "id": "281df2c6",
   "metadata": {},
   "source": [
    "## Two interesting forms to do "
   ]
  },
  {
   "cell_type": "code",
   "execution_count": 90,
   "id": "ddd5b4f5",
   "metadata": {},
   "outputs": [
    {
     "data": {
      "text/plain": [
       "\"\\nfrom PyPDF2 import PdfFileWriter, PdfFileReader\\n\\ninput_pdf = open('test.pdf', 'rb')\\nwriter = PdfFileWriter()\\n\\nreader = PdfFileReader(input_pdf)\\nin1 = writer.addPage(reader.getPage(0))\\ninput_pdf.close()\\n\\noutput_pdf = open('new_test.pdf', 'wb')\\nwriter.write(output_pdf)\\noutput_pdf.close()\\n\""
      ]
     },
     "execution_count": 90,
     "metadata": {},
     "output_type": "execute_result"
    }
   ],
   "source": [
    "# one\n",
    "\"\"\"\n",
    "from PyPDF2 import PdfReader, PdfWriter\n",
    "\n",
    "dr = r\"C:\\GC\"\n",
    "ldr = dr + r\"\\12L.pdf\"\n",
    "writer = PdfWriter()\n",
    "\n",
    "with open(ldr, \"rb\") as f:\n",
    "  reader = PdfReader(f)\n",
    "  page = reader.pages[0]\n",
    "  writer.add_page(page)\n",
    "  \n",
    "  with open(dr + r\"\\new.pdf\", \"wb\") as output_stream:\n",
    "    writer.write(output_stream)\n",
    "\"\"\"\n",
    "# two\n",
    "\"\"\"\n",
    "from PyPDF2 import PdfFileWriter, PdfFileReader\n",
    "\n",
    "input_pdf = open('test.pdf', 'rb') --here you put directory name and document name\n",
    "writer = PdfFileWriter()\n",
    "\n",
    "reader = PdfFileReader(input_pdf)\n",
    "in1 = writer.addPage(reader.getPage(0))\n",
    "input_pdf.close()\n",
    "\n",
    "output_pdf = open('new_test.pdf', 'wb')\n",
    "writer.write(output_pdf)\n",
    "output_pdf.close()\n",
    "\"\"\""
   ]
  }
 ],
 "metadata": {
  "kernelspec": {
   "display_name": "Python 3 (ipykernel)",
   "language": "python",
   "name": "python3"
  },
  "language_info": {
   "codemirror_mode": {
    "name": "ipython",
    "version": 3
   },
   "file_extension": ".py",
   "mimetype": "text/x-python",
   "name": "python",
   "nbconvert_exporter": "python",
   "pygments_lexer": "ipython3",
   "version": "3.7.16"
  }
 },
 "nbformat": 4,
 "nbformat_minor": 5
}
