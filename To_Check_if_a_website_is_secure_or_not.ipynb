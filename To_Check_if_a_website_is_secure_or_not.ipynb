{
  "nbformat": 4,
  "nbformat_minor": 0,
  "metadata": {
    "colab": {
      "provenance": []
    },
    "kernelspec": {
      "name": "python3",
      "display_name": "Python 3"
    },
    "language_info": {
      "name": "python"
    }
  },
  "cells": [
    {
      "cell_type": "markdown",
      "source": [
        "#**To Check if a website is secure or not**"
      ],
      "metadata": {
        "id": "mlGtwnSXNnRy"
      }
    },
    {
      "cell_type": "code",
      "execution_count": 8,
      "metadata": {
        "colab": {
          "base_uri": "https://localhost:8080/"
        },
        "id": "aaQy9oHNNJSN",
        "outputId": "3b19f6a2-b2e5-45c2-d83b-e7bf0548e108"
      },
      "outputs": [
        {
          "output_type": "stream",
          "name": "stdout",
          "text": [
            "Enter the URL of the website: www.youtube.com\n",
            "http://www.youtube.com is secure.\n"
          ]
        }
      ],
      "source": [
        "import requests\n",
        "\n",
        "def is_secure_website(url):\n",
        "    try:\n",
        "        response = requests.get(url, allow_redirects=True)  # Key change: allow_redirects\n",
        "        response.raise_for_status()\n",
        "        return response.url.startswith(\"https://\")\n",
        "    except requests.exceptions.RequestException:\n",
        "        return False\n",
        "\n",
        "if __name__ == \"__main__\":\n",
        "    website_url = input(\"Enter the URL of the website: \")\n",
        "\n",
        "    if not website_url.startswith(\"http://\") and not website_url.startswith(\"https://\"):\n",
        "        website_url = \"http://\" + website_url\n",
        "\n",
        "    if is_secure_website(website_url):\n",
        "        print(f\"{website_url} is secure.\")\n",
        "    else:\n",
        "        print(f\"{website_url} is not secure.\")"
      ]
    }
  ]
}