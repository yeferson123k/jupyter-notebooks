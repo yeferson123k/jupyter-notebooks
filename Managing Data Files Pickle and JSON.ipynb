{
 "cells": [
  {
   "cell_type": "markdown",
   "id": "aa6aba74",
   "metadata": {},
   "source": [
    "## Working with CSV Files"
   ]
  },
  {
   "cell_type": "code",
   "execution_count": 11,
   "id": "f0f8f366",
   "metadata": {},
   "outputs": [],
   "source": [
    "# Generate 50 rows and 4 columns of data\n",
    "import numpy as np\n",
    "new_data = np.random.random((50,4))\n",
    "np.savetxt(\"main.csv\", new_data, fmt = \"%.2f\", delimiter=\",\", header = \"H1, H2, H3, H4\")"
   ]
  },
  {
   "cell_type": "code",
   "execution_count": 12,
   "id": "3c11d371",
   "metadata": {},
   "outputs": [
    {
     "data": {
      "text/plain": [
       "array([[0.73, 0.01, 0.54, 0.98],\n",
       "       [0.96, 0.66, 0.16, 0.12],\n",
       "       [0.44, 0.3 , 0.44, 0.8 ],\n",
       "       [0.32, 0.57, 0.12, 0.79]])"
      ]
     },
     "execution_count": 12,
     "metadata": {},
     "output_type": "execute_result"
    }
   ],
   "source": [
    "# Read CSV File\n",
    "reading_csv = np.loadtxt(\"main.csv\", delimiter=\",\")\n",
    "reading_csv[:4, :]"
   ]
  },
  {
   "cell_type": "markdown",
   "id": "892829b5",
   "metadata": {},
   "source": [
    "## Working with Plockle Files"
   ]
  },
  {
   "cell_type": "code",
   "execution_count": 13,
   "id": "fdecde90",
   "metadata": {},
   "outputs": [],
   "source": [
    "import pickle"
   ]
  },
  {
   "cell_type": "code",
   "execution_count": 15,
   "id": "c53ce9e4",
   "metadata": {},
   "outputs": [],
   "source": [
    "#Write to Pickle File\n",
    "ordering = {\"First\":1, \"Second\":2, \"third\":3}\n",
    "pickle.dump(ordering, open(\"new.pkl\", \"wb\"))"
   ]
  },
  {
   "cell_type": "code",
   "execution_count": 17,
   "id": "cf30124b",
   "metadata": {},
   "outputs": [],
   "source": [
    "#Read from Picke File\n",
    "reading_pickle = pickle.load(open(\"new.pkl\", \"rb\"))"
   ]
  },
  {
   "cell_type": "code",
   "execution_count": 18,
   "id": "8366b7e5",
   "metadata": {},
   "outputs": [
    {
     "data": {
      "text/plain": [
       "{'First': 1, 'Second': 2, 'third': 3}"
      ]
     },
     "execution_count": 18,
     "metadata": {},
     "output_type": "execute_result"
    }
   ],
   "source": [
    "reading_pickle"
   ]
  },
  {
   "cell_type": "markdown",
   "id": "a654a2cd",
   "metadata": {},
   "source": [
    "## Working with JSON Files"
   ]
  },
  {
   "cell_type": "code",
   "execution_count": 20,
   "id": "000ae960",
   "metadata": {},
   "outputs": [],
   "source": [
    "import json\n",
    "\n",
    "college = {\n",
    "\"college\": \"Engineering College\",\n",
    "\"objectives\": \"Mastering Electrical and Computer Engineering\",\n",
    "\"departments\": {\n",
    "\"dep1\": \"Electical\",\n",
    "\"dep2\": \"Computer\"\n",
    "},\n",
    "\"years\":[\n",
    "\"year 1\",\n",
    "\"year 2\",\n",
    "\"year 3\",\n",
    "\"year 4\"\n",
    "],\n",
    "\"numbers\":[1, 2, 3, 4],\n",
    "\"ID\":[10, 20, 30, 40]\n",
    "}\n",
    "\n",
    "json.dump(college, open(\"college.json\", \"w\"))"
   ]
  },
  {
   "cell_type": "code",
   "execution_count": 22,
   "id": "fdc9e0f1",
   "metadata": {},
   "outputs": [],
   "source": [
    "new_college = json.load(open(\"college.json\", \"r\"))"
   ]
  },
  {
   "cell_type": "code",
   "execution_count": 23,
   "id": "486018b0",
   "metadata": {},
   "outputs": [
    {
     "data": {
      "text/plain": [
       "{'college': 'Engineering College',\n",
       " 'objectives': 'Mastering Electrical and Computer Engineering',\n",
       " 'departments': {'dep1': 'Electical', 'dep2': 'Computer'},\n",
       " 'years': ['year 1', 'year 2', 'year 3', 'year 4'],\n",
       " 'numbers': [1, 2, 3, 4],\n",
       " 'ID': [10, 20, 30, 40]}"
      ]
     },
     "execution_count": 23,
     "metadata": {},
     "output_type": "execute_result"
    }
   ],
   "source": [
    "new_college"
   ]
  }
 ],
 "metadata": {
  "kernelspec": {
   "display_name": "Python 3 (ipykernel)",
   "language": "python",
   "name": "python3"
  },
  "language_info": {
   "codemirror_mode": {
    "name": "ipython",
    "version": 3
   },
   "file_extension": ".py",
   "mimetype": "text/x-python",
   "name": "python",
   "nbconvert_exporter": "python",
   "pygments_lexer": "ipython3",
   "version": "3.7.16"
  }
 },
 "nbformat": 4,
 "nbformat_minor": 5
}
