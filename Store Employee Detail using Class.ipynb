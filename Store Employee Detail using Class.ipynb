{
 "cells": [
  {
   "cell_type": "code",
   "execution_count": 4,
   "id": "d8b5feb0",
   "metadata": {},
   "outputs": [
    {
     "name": "stdout",
     "output_type": "stream",
     "text": [
      "There are 4 employees\n",
      "**Information about Employes**\n",
      "Name: Employee1 , Position: HR ,Salary 30000\n",
      "Name: Employee2 , Position: Manager ,Salary 90000\n",
      "Name: Employee3 , Position: Programer ,Salary 50000\n",
      "Name: Employee4 , Position: Engineer ,Salary 65000\n"
     ]
    }
   ],
   "source": [
    "class Employee:\n",
    "    count = 0\n",
    "    def __init__(self, name, position, salary):\n",
    "        self.name=name\n",
    "        self.position=position\n",
    "        self.salary=salary\n",
    "        Employee.count += 1\n",
    "    def displayCount(self):\n",
    "        print(\"There are %d employees\" % Employee.count)\n",
    "    def displayDetails(self):\n",
    "        print(\"Name:\", self.name, \", Position:\", self.position, \",Salary\", self.salary)\n",
    "    \n",
    "emp1 = Employee(\"Employee1\", \"HR\", 30000)\n",
    "emp2 = Employee(\"Employee2\", \"Manager\", 90000)\n",
    "emp3 = Employee(\"Employee3\", \"Programer\", 50000)\n",
    "emp4 = Employee(\"Employee4\", \"Engineer\", 65000)\n",
    "\n",
    "emp4.displayCount() #Count of employees\n",
    "\n",
    "print(\"**Information about Employes**\")\n",
    "emp1.displayDetails()\n",
    "emp2.displayDetails()\n",
    "emp3.displayDetails()\n",
    "emp4.displayDetails()\n"
   ]
  }
 ],
 "metadata": {
  "kernelspec": {
   "display_name": "Python 3 (ipykernel)",
   "language": "python",
   "name": "python3"
  },
  "language_info": {
   "codemirror_mode": {
    "name": "ipython",
    "version": 3
   },
   "file_extension": ".py",
   "mimetype": "text/x-python",
   "name": "python",
   "nbconvert_exporter": "python",
   "pygments_lexer": "ipython3",
   "version": "3.7.16"
  }
 },
 "nbformat": 4,
 "nbformat_minor": 5
}
