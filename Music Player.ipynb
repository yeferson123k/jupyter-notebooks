{
 "cells": [
  {
   "cell_type": "code",
   "execution_count": 1,
   "id": "72382c49",
   "metadata": {},
   "outputs": [
    {
     "name": "stdout",
     "output_type": "stream",
     "text": [
      "Collecting pygame\n",
      "  Downloading pygame-2.5.2-cp37-cp37m-win_amd64.whl (10.7 MB)\n",
      "     --------------------------------------- 10.7/10.7 MB 93.5 kB/s eta 0:00:00\n",
      "Installing collected packages: pygame\n",
      "Successfully installed pygame-2.5.2\n"
     ]
    }
   ],
   "source": [
    "!pip install pygame"
   ]
  },
  {
   "cell_type": "code",
   "execution_count": 11,
   "id": "9501f4a1",
   "metadata": {},
   "outputs": [
    {
     "name": "stdout",
     "output_type": "stream",
     "text": [
      "C:\\Users\\yefga\\Desktop\\MACHINE LEARNING\\python for machine learnong a step by step guidemy_file.py\n"
     ]
    }
   ],
   "source": [
    "import os\n",
    "# Look to the path of your current working directory\n",
    "working_directory = os.getcwd()\n",
    "# Or: file_path = os.path.join(working_directory, 'my_file.py')\n",
    "file_path = working_directory + 'my_file.py'\n",
    "\n",
    "print(file_path)"
   ]
  },
  {
   "cell_type": "code",
   "execution_count": 34,
   "id": "afde2e0e",
   "metadata": {},
   "outputs": [],
   "source": [
    "# How to load, play, pause and unpause audio file\n",
    "from pygame import mixer\n",
    "\n",
    "mixer.init() #Initialzing pygame mixer\n",
    "\n",
    "mixer.music.load('21.mp3') #loading audio File put the file in the same place\n",
    "#of the this document what you want hear\n",
    "\n",
    "mixer.music.play() #Playing Music with Pygame\n",
    "mixer.music.stop()"
   ]
  },
  {
   "cell_type": "markdown",
   "id": "9e8640b0",
   "metadata": {},
   "source": [
    "## Music Player"
   ]
  },
  {
   "cell_type": "code",
   "execution_count": 31,
   "id": "245a5dd1",
   "metadata": {},
   "outputs": [],
   "source": [
    "from tkinter import *\n",
    "from tkinter import filedialog\n",
    "from pygame import mixer\n",
    "\n",
    "class Player:\n",
    "    def __init__(self, window ):\n",
    "        window.geometry('320x100'); window.title('Python Tiny Player'); window.resizable(0,0)\n",
    "        Load = Button(window, text = 'Load',  width = 10, font = ('Times', 10), command = self.load)\n",
    "        Play = Button(window, text = 'Play',  width = 10,font = ('Times', 10), command = self.play)\n",
    "        Pause = Button(window,text = 'Pause',  width = 10, font = ('Times', 10), command = self.pause)\n",
    "        Stop = Button(window ,text = 'Stop',  width = 10, font = ('Times', 10), command = self.stop)\n",
    "        Load.place(x=0, y=20); Play.place(x=110, y=20); Pause.place(x=220, y=20); Stop.place(x=110, y=60) \n",
    "        self.music_file = False\n",
    "        self.playing_state = False\n",
    "    def load(self):\n",
    "        self.music_file = filedialog.askopenfilename()\n",
    "    def play(self):\n",
    "        if self.music_file:\n",
    "            mixer.init()\n",
    "            mixer.music.load(self.music_file)\n",
    "            mixer.music.play()\n",
    "    def pause(self):\n",
    "        if not self.playing_state:\n",
    "            mixer.music.pause()\n",
    "            self.playing_state=True\n",
    "        else:\n",
    "            mixer.music.unpause()\n",
    "            self.playing_state = False\n",
    "    def stop(self):\n",
    "        mixer.music.stop()\n",
    "    \n",
    "new_root = Tk()\n",
    "player_app = Player(new_root)\n",
    "new_root.mainloop()"
   ]
  },
  {
   "cell_type": "code",
   "execution_count": null,
   "id": "1759b9f0",
   "metadata": {},
   "outputs": [],
   "source": []
  },
  {
   "cell_type": "code",
   "execution_count": null,
   "id": "93926ced",
   "metadata": {},
   "outputs": [],
   "source": []
  }
 ],
 "metadata": {
  "kernelspec": {
   "display_name": "Python 3 (ipykernel)",
   "language": "python",
   "name": "python3"
  },
  "language_info": {
   "codemirror_mode": {
    "name": "ipython",
    "version": 3
   },
   "file_extension": ".py",
   "mimetype": "text/x-python",
   "name": "python",
   "nbconvert_exporter": "python",
   "pygments_lexer": "ipython3",
   "version": "3.7.16"
  }
 },
 "nbformat": 4,
 "nbformat_minor": 5
}
